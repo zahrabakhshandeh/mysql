{
 "cells": [
  {
   "cell_type": "code",
   "execution_count": 1,
   "id": "7f953f80",
   "metadata": {},
   "outputs": [],
   "source": [
    "import mysql.connector\n",
    "mydb = mysql.connector.connect(\n",
    "  host=\"localhost\",\n",
    "  user=\"root\",\n",
    "  password=\"pass\"\n",
    ")"
   ]
  },
  {
   "cell_type": "code",
   "execution_count": 2,
   "id": "01a8367d",
   "metadata": {},
   "outputs": [],
   "source": [
    "mycursor = mydb.cursor()\n",
    "sql = \"CREATE DATABASE Shop2\"\n",
    "mycursor.execute(sql)"
   ]
  },
  {
   "cell_type": "code",
   "execution_count": 3,
   "id": "04ead75e",
   "metadata": {},
   "outputs": [],
   "source": [
    "mydb = mysql.connector.connect(\n",
    "    host = \"localhost\",\n",
    "    user = \"root\",\n",
    "    password = \"pass\",\n",
    "    database= \"Shop2\"\n",
    ")\n",
    "mycursor = mydb.cursor()"
   ]
  },
  {
   "cell_type": "code",
   "execution_count": 4,
   "id": "3eff2745",
   "metadata": {},
   "outputs": [],
   "source": [
    "sql = \"\"\"\n",
    "        CREATE TABLE Products(\n",
    "        p_id int NOT NULL,\n",
    "        product_name varchar(255),\n",
    "        PRIMARY KEY (p_id)\n",
    "        );\n",
    "\"\"\"\n",
    "mycursor.execute(sql)"
   ]
  },
  {
   "cell_type": "code",
   "execution_count": 5,
   "id": "9c3490a6",
   "metadata": {},
   "outputs": [],
   "source": [
    "sql = \"\"\"\n",
    "        CREATE TABLE Customers(\n",
    "        c_id int NOT NULL,\n",
    "        customer_name varchar(255) NOT NULL,\n",
    "        PRIMARY KEY (c_id)\n",
    "        );\n",
    "\"\"\"\n",
    "mycursor.execute(sql)"
   ]
  },
  {
   "cell_type": "code",
   "execution_count": 6,
   "id": "a9b6030b",
   "metadata": {},
   "outputs": [
    {
     "name": "stdout",
     "output_type": "stream",
     "text": [
      "('Customers',)\n",
      "('Products',)\n"
     ]
    }
   ],
   "source": [
    "sql = \"SHOW TABLES\"\n",
    "mycursor.execute(sql)\n",
    "for i in mycursor:\n",
    "    print(i)"
   ]
  },
  {
   "cell_type": "code",
   "execution_count": 7,
   "id": "cc4a497e",
   "metadata": {},
   "outputs": [
    {
     "data": {
      "text/plain": [
       "[('c_id', b'int', 'NO', 'PRI', None, ''),\n",
       " ('customer_name', b'varchar(255)', 'NO', '', None, '')]"
      ]
     },
     "execution_count": 7,
     "metadata": {},
     "output_type": "execute_result"
    }
   ],
   "source": [
    "mycursor.execute(\"DESCRIBE Customers\")\n",
    "res = mycursor.fetchall()\n",
    "res"
   ]
  },
  {
   "cell_type": "code",
   "execution_count": 8,
   "id": "7dc371fa",
   "metadata": {},
   "outputs": [
    {
     "data": {
      "text/plain": [
       "[('p_id', b'int', 'NO', 'PRI', None, ''),\n",
       " ('product_name', b'varchar(255)', 'YES', '', None, '')]"
      ]
     },
     "execution_count": 8,
     "metadata": {},
     "output_type": "execute_result"
    }
   ],
   "source": [
    "mycursor.execute(\"DESCRIBE Products\")\n",
    "res = mycursor.fetchall()\n",
    "res"
   ]
  },
  {
   "cell_type": "code",
   "execution_count": 9,
   "id": "9981d304",
   "metadata": {},
   "outputs": [],
   "source": [
    "sql = \"\"\"\n",
    "        CREATE TABLE Customers_Products(\n",
    "        c_id int NOT NULL,\n",
    "        p_id int NOT NULL,\n",
    "        FOREIGN KEY (c_id) REFERENCES Customers(c_id),\n",
    "        FOREIGN KEY (p_id) REFERENCES Products(p_id)\n",
    "        );\n",
    "\"\"\"\n",
    "mycursor.execute(sql)"
   ]
  },
  {
   "cell_type": "code",
   "execution_count": 10,
   "id": "4e6cd584",
   "metadata": {},
   "outputs": [
    {
     "data": {
      "text/plain": [
       "[('c_id', b'int', 'NO', 'MUL', None, ''),\n",
       " ('p_id', b'int', 'NO', 'MUL', None, '')]"
      ]
     },
     "execution_count": 10,
     "metadata": {},
     "output_type": "execute_result"
    }
   ],
   "source": [
    "mycursor.execute(\"DESCRIBE Customers_Products\")\n",
    "res = mycursor.fetchall()\n",
    "res"
   ]
  },
  {
   "cell_type": "code",
   "execution_count": 12,
   "id": "b8805b87",
   "metadata": {},
   "outputs": [],
   "source": [
    "sql = \"\"\"INSERT INTO Customers VALUES (1, 'Ali'),\n",
    "                                 (2, 'Sara'),\n",
    "                                 (3, 'Diana'),\n",
    "                                 (4, 'Maryam'),\n",
    "                                 (5, ,Zahra')                  \n",
    "      \"\"\"\n",
    "mycursor.execute(sql)"
   ]
  },
  {
   "cell_type": "code",
   "execution_count": 13,
   "id": "d45eb805",
   "metadata": {},
   "outputs": [],
   "source": [
    "sql = \"\"\"INSERT INTO Products VALUES (1, 'laptop1'),\n",
    "                                 (2, 'laptop2'),\n",
    "                                 (3, 'laptop3'),\n",
    "                                 (4, 'laptop4'),\n",
    "                                 (5, 'laptop5')                  \n",
    "      \"\"\"\n",
    "mycursor.execute(sql)"
   ]
  },
  {
   "cell_type": "code",
   "execution_count": 15,
   "id": "2588907f",
   "metadata": {},
   "outputs": [
    {
     "name": "stdout",
     "output_type": "stream",
     "text": [
      "[(1, 'Ali'), (2, 'Sara'), (3, 'Diana'), (4, 'Maryam'), (5, 'Zahra')]\n"
     ]
    }
   ],
   "source": [
    "sql = \"SELECT * FROM Customers\"\n",
    "mycursor.execute(sql)\n",
    "data = mycursor.fetchall()\n",
    "data"
   ]
  },
  {
   "cell_type": "code",
   "execution_count": 16,
   "id": "e65b2dec",
   "metadata": {},
   "outputs": [
    {
     "data": {
      "text/plain": [
       "[(1, 'laptop1'),\n",
       " (2, 'laptop2'),\n",
       " (3, 'laptop3'),\n",
       " (4, 'laptop4'),\n",
       " (5, 'laptop5')]"
      ]
     },
     "execution_count": 16,
     "metadata": {},
     "output_type": "execute_result"
    }
   ],
   "source": [
    "sql = \"SELECT * FROM Products\"\n",
    "mycursor.execute(sql)\n",
    "data = mycursor.fetchall()\n",
    "data"
   ]
  },
  {
   "cell_type": "code",
   "execution_count": 17,
   "id": "6eb9f77d",
   "metadata": {},
   "outputs": [],
   "source": [
    "sql = \"\"\"INSERT INTO Customers_Products VALUES \n",
    "                                            (1, 1),\n",
    "                                            (1, 4),\n",
    "                                            (3, 4),\n",
    "                                            (5, 3)                 \n",
    "      \"\"\"\n",
    "mycursor.execute(sql)"
   ]
  },
  {
   "cell_type": "code",
   "execution_count": 41,
   "id": "d9b5d509",
   "metadata": {},
   "outputs": [
    {
     "data": {
      "text/plain": [
       "[(1, 'Ali', 1, 'laptop1', 1, 1),\n",
       " (1, 'Ali', 4, 'laptop4', 1, 4),\n",
       " (3, 'Diana', 4, 'laptop4', 3, 4),\n",
       " (5, 'Zahra', 3, 'laptop3', 5, 3)]"
      ]
     },
     "execution_count": 41,
     "metadata": {},
     "output_type": "execute_result"
    }
   ],
   "source": [
    "sql = \"\"\"\n",
    "        SELECT * FROM Customers, Products, Customers_Products\n",
    "        WHERE \n",
    "        Customers.c_id = Customers_Products.c_id and Products.p_id = Customers_Products.p_id\n",
    "      \"\"\"\n",
    "mycursor.execute(sql)\n",
    "rows = mycursor.fetchall()\n",
    "rows"
   ]
  },
  {
   "cell_type": "code",
   "execution_count": 42,
   "id": "fdb0cafb",
   "metadata": {},
   "outputs": [
    {
     "name": "stdout",
     "output_type": "stream",
     "text": [
      "Ali [('laptop1',), ('laptop4',)]\n",
      "Sara []\n",
      "Diana [('laptop4',)]\n",
      "Maryam []\n",
      "Zahra [('laptop3',)]\n"
     ]
    }
   ],
   "source": [
    "sql = \"SELECT * from Customers\"\n",
    "mycursor.execute(sql)\n",
    "index = mycursor.fetchall()\n",
    "for i in index:\n",
    "    #print(i[0])\n",
    "    num = i[0]\n",
    "    sql = f\"\"\"\n",
    "        SELECT product_name FROM Customers, Products, Customers_Products\n",
    "        WHERE \n",
    "        Customers.c_id = Customers_Products.c_id and \n",
    "        Products.p_id = Customers_Products.p_id and\n",
    "        Customers.c_id = {num}\n",
    "      \"\"\"\n",
    "    mycursor.execute(sql)\n",
    "    rows = mycursor.fetchall()\n",
    "    print(i[1],rows)"
   ]
  },
  {
   "cell_type": "code",
   "execution_count": null,
   "id": "26c396a4",
   "metadata": {},
   "outputs": [],
   "source": []
  }
 ],
 "metadata": {
  "kernelspec": {
   "display_name": "Python 3 (ipykernel)",
   "language": "python",
   "name": "python3"
  },
  "language_info": {
   "codemirror_mode": {
    "name": "ipython",
    "version": 3
   },
   "file_extension": ".py",
   "mimetype": "text/x-python",
   "name": "python",
   "nbconvert_exporter": "python",
   "pygments_lexer": "ipython3",
   "version": "3.9.13"
  }
 },
 "nbformat": 4,
 "nbformat_minor": 5
}
